{
 "cells": [
  {
   "cell_type": "markdown",
   "id": "bd4844c1",
   "metadata": {
    "id": "bd4844c1"
   },
   "source": [
    "## Assignment 8 "
   ]
  },
  {
   "cell_type": "code",
   "execution_count": 1,
   "id": "kaVedZyFaV0d",
   "metadata": {
    "id": "kaVedZyFaV0d"
   },
   "outputs": [
    {
     "name": "stdout",
     "output_type": "stream",
     "text": [
      "Collecting PyInputPlus\n",
      "  Downloading PyInputPlus-0.2.12.tar.gz (20 kB)\n",
      "  Installing build dependencies: started\n",
      "  Installing build dependencies: finished with status 'done'\n",
      "  Getting requirements to build wheel: started\n",
      "  Getting requirements to build wheel: finished with status 'done'\n",
      "    Preparing wheel metadata: started\n",
      "    Preparing wheel metadata: finished with status 'done'\n",
      "Collecting pysimplevalidate>=0.2.7\n",
      "  Downloading PySimpleValidate-0.2.12.tar.gz (22 kB)\n",
      "  Installing build dependencies: started\n",
      "  Installing build dependencies: finished with status 'done'\n",
      "  Getting requirements to build wheel: started\n",
      "  Getting requirements to build wheel: finished with status 'done'\n",
      "    Preparing wheel metadata: started\n",
      "    Preparing wheel metadata: finished with status 'done'\n",
      "Collecting stdiomask>=0.0.3\n",
      "  Downloading stdiomask-0.0.6.tar.gz (3.6 kB)\n",
      "  Installing build dependencies: started\n",
      "  Installing build dependencies: finished with status 'done'\n",
      "  Getting requirements to build wheel: started\n",
      "  Getting requirements to build wheel: finished with status 'done'\n",
      "    Preparing wheel metadata: started\n",
      "    Preparing wheel metadata: finished with status 'done'\n",
      "Building wheels for collected packages: PyInputPlus, pysimplevalidate, stdiomask\n",
      "  Building wheel for PyInputPlus (PEP 517): started\n",
      "  Building wheel for PyInputPlus (PEP 517): finished with status 'done'\n",
      "  Created wheel for PyInputPlus: filename=PyInputPlus-0.2.12-py3-none-any.whl size=11297 sha256=0fcd8be75899aa7bae23da52f5b1a6a537a287616a55569c41f7edf8621b66ba\n",
      "  Stored in directory: c:\\users\\admin\\appdata\\local\\pip\\cache\\wheels\\b9\\b4\\e7\\825446929f44b25d05f4df52bc4f7d211e5dec4c547126a098\n",
      "  Building wheel for pysimplevalidate (PEP 517): started\n",
      "  Building wheel for pysimplevalidate (PEP 517): finished with status 'done'\n",
      "  Created wheel for pysimplevalidate: filename=PySimpleValidate-0.2.12-py3-none-any.whl size=16175 sha256=df6bf6beff886223843b719d27070ae555b51cca248d36d399777fd6acd630f0\n",
      "  Stored in directory: c:\\users\\admin\\appdata\\local\\pip\\cache\\wheels\\bd\\d4\\a5\\a003719238ab12962e430310093e567ab7d29bc3bfe062b14c\n",
      "  Building wheel for stdiomask (PEP 517): started\n",
      "  Building wheel for stdiomask (PEP 517): finished with status 'done'\n",
      "  Created wheel for stdiomask: filename=stdiomask-0.0.6-py3-none-any.whl size=3306 sha256=0329189477807da6d163c4986e00a0a675078d00cceed261f0cd16ac7988c54f\n",
      "  Stored in directory: c:\\users\\admin\\appdata\\local\\pip\\cache\\wheels\\c1\\e9\\4e\\bcdfc282cffe91bb88e951ad9a05fb166ed6460bbe3c6dc02b\n",
      "Successfully built PyInputPlus pysimplevalidate stdiomask\n",
      "Installing collected packages: stdiomask, pysimplevalidate, PyInputPlus\n",
      "Successfully installed PyInputPlus-0.2.12 pysimplevalidate-0.2.12 stdiomask-0.0.6\n"
     ]
    }
   ],
   "source": [
    "!pip install PyInputPlus"
   ]
  },
  {
   "cell_type": "markdown",
   "id": "215594ca",
   "metadata": {
    "id": "215594ca"
   },
   "source": [
    "#### 1. Is the Python Standard Library included with PyInputPlus?\n",
    "**Ans:** No, **`PyInputPlus`** is not a part of Python Standard Library, it needs to be installed explicitly using the command **`!pip install PyInputPlus`**"
   ]
  },
  {
   "cell_type": "markdown",
   "id": "76a769e0",
   "metadata": {
    "id": "76a769e0"
   },
   "source": [
    "#### 2. Why is PyInputPlus commonly imported with import pyinputplus as pypi?\n",
    "**Ans:** You can import the module with **`import pyinputplus as pypi`** so that you can enter a shorter name when calling the module's functions."
   ]
  },
  {
   "cell_type": "code",
   "execution_count": 2,
   "id": "y8xwpD3uabjq",
   "metadata": {
    "id": "y8xwpD3uabjq"
   },
   "outputs": [],
   "source": [
    "import pyinputplus as pypi"
   ]
  },
  {
   "cell_type": "markdown",
   "id": "5d578dfb",
   "metadata": {
    "id": "5d578dfb"
   },
   "source": [
    "#### 3. How do you distinguish between inputInt() and inputFloat()?\n",
    "**Ans:** **`inputInt()`** function Accepts an integer value. This also takes additional parameters **`min`**, **`max`**, **`greaterThan`** and **`lessThan`** for bounds. And it always returns an int.\n",
    "\n",
    "Whereas **`inputFloat()`** function Accepts a floating-point numeric value. this also takes additional **`min`**, **`max`**, **`greaterThan`** and **`lessThan`** parameters. and always returns a float."
   ]
  },
  {
   "cell_type": "markdown",
   "id": "5a276409",
   "metadata": {
    "id": "5a276409"
   },
   "source": [
    "#### 4. Using PyInputPlus, how do you ensure that the user enters a whole number between 0 and 99?\n",
    "**Ans:** **`PyInputPlus`** module provides a function called as **`inputInt()`** which only returns only integer values. inorder to restrict the input between 0 and 99, i'ii use parameters like **`min`** & **`max`** to ensure that user enters the values between the defined range only.\n",
    "\n",
    "`import pyinputplus as pyip`  \n",
    "`wholenumber = pyip.inputInt(prompt='Enter a number: ', min=0, max=100)`   \n",
    "`print(wholenumber)`  "
   ]
  },
  {
   "cell_type": "code",
   "execution_count": 3,
   "id": "hhZgUQuTbKuH",
   "metadata": {
    "colab": {
     "base_uri": "https://localhost:8080/"
    },
    "id": "hhZgUQuTbKuH",
    "outputId": "ce8c5895-cb8d-4174-d893-b291a2c8ef2b"
   },
   "outputs": [
    {
     "name": "stdout",
     "output_type": "stream",
     "text": [
      "Enter a number: 200\n",
      "Number must be at maximum 100.\n",
      "Enter a number: 75\n",
      "75\n"
     ]
    }
   ],
   "source": [
    "import pyinputplus as pyip\n",
    "wholenumber = pyip.inputInt(prompt='Enter a number: ', min=0, max=100) \n",
    "print(wholenumber)"
   ]
  },
  {
   "cell_type": "markdown",
   "id": "a3266159",
   "metadata": {
    "id": "a3266159"
   },
   "source": [
    "#### 5. What is transferred to the keyword arguments allowRegexes and blockRegexes?\n",
    "**Ans:** we can use **`allowRegexes`** and **`blockRegexes`** keyword arguments to take list of regular expression strings to determine\n",
    "what the pyinputplus function will reject or accept valid input."
   ]
  },
  {
   "cell_type": "markdown",
   "id": "20251b09",
   "metadata": {
    "id": "20251b09"
   },
   "source": [
    "#### 6. If a blank input is entered three times, what does inputStr(limit=3) do?\n",
    "**Ans:** The statement **`inputStr(limit=3)`** will throw two exceptions **`ValidationException`** and **`RetryLimitException`**. The first exception is thrown because blank values are not allowed by inputStr() function by default. it we want to consider blank values as valid input, we have to set **`blank=True`**.\n",
    "\n",
    "The second exception is occured because we have reached the max limit we have specified by using **`limit`** parameter. inorder to avoid this exception we can use **`default`** parameter to return a default value when max limit is reached."
   ]
  },
  {
   "cell_type": "markdown",
   "id": "a57b26ea",
   "metadata": {
    "id": "a57b26ea"
   },
   "source": [
    "#### 7. If blank input is entered three times, what does inputStr(limit=3, default='hello') do?\n",
    "**Ans:** Since the default parameter is set to **`hello`**. after blank input is entered three times instead of raising **`RetryLimitException`** exception. the function will return **`hello`** as response to the calling function"
   ]
  }
 ],
 "metadata": {
  "colab": {
   "collapsed_sections": [],
   "name": "Python Basics Assignment_8.ipynb",
   "provenance": []
  },
  "kernelspec": {
   "display_name": "Python 3",
   "language": "python",
   "name": "python3"
  },
  "language_info": {
   "codemirror_mode": {
    "name": "ipython",
    "version": 3
   },
   "file_extension": ".py",
   "mimetype": "text/x-python",
   "name": "python",
   "nbconvert_exporter": "python",
   "pygments_lexer": "ipython3",
   "version": "3.8.8"
  }
 },
 "nbformat": 4,
 "nbformat_minor": 5
}
